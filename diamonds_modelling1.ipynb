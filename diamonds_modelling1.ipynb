{
 "cells": [
  {
   "cell_type": "code",
   "execution_count": 1,
   "metadata": {},
   "outputs": [],
   "source": [
    "# Importing libraries:\n",
    "\n",
    "%matplotlib inline\n",
    "\n",
    "import numpy as np\n",
    "import pandas as pd\n",
    "import matplotlib.pyplot as plt\n",
    "import seaborn as sns"
   ]
  },
  {
   "cell_type": "code",
   "execution_count": 2,
   "metadata": {},
   "outputs": [],
   "source": [
    "#importing clean dataset\n",
    "diamonds = pd.read_csv('./clean_diamonds.csv')\n",
    "diamonds = pd.DataFrame(diamonds)"
   ]
  },
  {
   "cell_type": "code",
   "execution_count": 3,
   "metadata": {},
   "outputs": [
    {
     "name": "stdout",
     "output_type": "stream",
     "text": [
      "(40455, 9)\n"
     ]
    },
    {
     "data": {
      "text/html": [
       "<div>\n",
       "<style scoped>\n",
       "    .dataframe tbody tr th:only-of-type {\n",
       "        vertical-align: middle;\n",
       "    }\n",
       "\n",
       "    .dataframe tbody tr th {\n",
       "        vertical-align: top;\n",
       "    }\n",
       "\n",
       "    .dataframe thead th {\n",
       "        text-align: right;\n",
       "    }\n",
       "</style>\n",
       "<table border=\"1\" class=\"dataframe\">\n",
       "  <thead>\n",
       "    <tr style=\"text-align: right;\">\n",
       "      <th></th>\n",
       "      <th>Unnamed: 0</th>\n",
       "      <th>carat</th>\n",
       "      <th>cut</th>\n",
       "      <th>color</th>\n",
       "      <th>clarity</th>\n",
       "      <th>depth</th>\n",
       "      <th>table</th>\n",
       "      <th>price</th>\n",
       "      <th>carat_bin</th>\n",
       "    </tr>\n",
       "  </thead>\n",
       "  <tbody>\n",
       "    <tr>\n",
       "      <th>0</th>\n",
       "      <td>0</td>\n",
       "      <td>3.081321</td>\n",
       "      <td>3.5</td>\n",
       "      <td>1.085714</td>\n",
       "      <td>0.981818</td>\n",
       "      <td>0.106170</td>\n",
       "      <td>-0.205764</td>\n",
       "      <td>12831</td>\n",
       "      <td>1.000000</td>\n",
       "    </tr>\n",
       "    <tr>\n",
       "      <th>1</th>\n",
       "      <td>1</td>\n",
       "      <td>3.439708</td>\n",
       "      <td>2.1</td>\n",
       "      <td>0.814286</td>\n",
       "      <td>0.981818</td>\n",
       "      <td>1.013798</td>\n",
       "      <td>-0.205764</td>\n",
       "      <td>16170</td>\n",
       "      <td>1.000000</td>\n",
       "    </tr>\n",
       "    <tr>\n",
       "      <th>2</th>\n",
       "      <td>2</td>\n",
       "      <td>0.003405</td>\n",
       "      <td>2.8</td>\n",
       "      <td>1.357143</td>\n",
       "      <td>0.981818</td>\n",
       "      <td>-0.522188</td>\n",
       "      <td>-0.205764</td>\n",
       "      <td>2797</td>\n",
       "      <td>0.583333</td>\n",
       "    </tr>\n",
       "    <tr>\n",
       "      <th>3</th>\n",
       "      <td>3</td>\n",
       "      <td>-0.839859</td>\n",
       "      <td>3.5</td>\n",
       "      <td>1.357143</td>\n",
       "      <td>0.736364</td>\n",
       "      <td>1.083616</td>\n",
       "      <td>1.138849</td>\n",
       "      <td>630</td>\n",
       "      <td>0.250000</td>\n",
       "    </tr>\n",
       "    <tr>\n",
       "      <th>4</th>\n",
       "      <td>4</td>\n",
       "      <td>-1.029593</td>\n",
       "      <td>3.5</td>\n",
       "      <td>1.085714</td>\n",
       "      <td>1.472727</td>\n",
       "      <td>-0.103283</td>\n",
       "      <td>-1.102173</td>\n",
       "      <td>698</td>\n",
       "      <td>0.083333</td>\n",
       "    </tr>\n",
       "  </tbody>\n",
       "</table>\n",
       "</div>"
      ],
      "text/plain": [
       "   Unnamed: 0     carat  cut     color   clarity     depth     table  price  \\\n",
       "0           0  3.081321  3.5  1.085714  0.981818  0.106170 -0.205764  12831   \n",
       "1           1  3.439708  2.1  0.814286  0.981818  1.013798 -0.205764  16170   \n",
       "2           2  0.003405  2.8  1.357143  0.981818 -0.522188 -0.205764   2797   \n",
       "3           3 -0.839859  3.5  1.357143  0.736364  1.083616  1.138849    630   \n",
       "4           4 -1.029593  3.5  1.085714  1.472727 -0.103283 -1.102173    698   \n",
       "\n",
       "   carat_bin  \n",
       "0   1.000000  \n",
       "1   1.000000  \n",
       "2   0.583333  \n",
       "3   0.250000  \n",
       "4   0.083333  "
      ]
     },
     "metadata": {},
     "output_type": "display_data"
    }
   ],
   "source": [
    "#first check of dataset\n",
    "print(diamonds.shape)\n",
    "display(diamonds.head())"
   ]
  },
  {
   "cell_type": "code",
   "execution_count": 4,
   "metadata": {},
   "outputs": [
    {
     "data": {
      "text/html": [
       "<div>\n",
       "<style scoped>\n",
       "    .dataframe tbody tr th:only-of-type {\n",
       "        vertical-align: middle;\n",
       "    }\n",
       "\n",
       "    .dataframe tbody tr th {\n",
       "        vertical-align: top;\n",
       "    }\n",
       "\n",
       "    .dataframe thead th {\n",
       "        text-align: right;\n",
       "    }\n",
       "</style>\n",
       "<table border=\"1\" class=\"dataframe\">\n",
       "  <thead>\n",
       "    <tr style=\"text-align: right;\">\n",
       "      <th></th>\n",
       "      <th>carat</th>\n",
       "      <th>cut</th>\n",
       "      <th>color</th>\n",
       "      <th>clarity</th>\n",
       "      <th>depth</th>\n",
       "      <th>table</th>\n",
       "      <th>price</th>\n",
       "      <th>carat_bin</th>\n",
       "    </tr>\n",
       "  </thead>\n",
       "  <tbody>\n",
       "    <tr>\n",
       "      <th>0</th>\n",
       "      <td>3.081321</td>\n",
       "      <td>3.5</td>\n",
       "      <td>1.085714</td>\n",
       "      <td>0.981818</td>\n",
       "      <td>0.106170</td>\n",
       "      <td>-0.205764</td>\n",
       "      <td>12831</td>\n",
       "      <td>1.000000</td>\n",
       "    </tr>\n",
       "    <tr>\n",
       "      <th>1</th>\n",
       "      <td>3.439708</td>\n",
       "      <td>2.1</td>\n",
       "      <td>0.814286</td>\n",
       "      <td>0.981818</td>\n",
       "      <td>1.013798</td>\n",
       "      <td>-0.205764</td>\n",
       "      <td>16170</td>\n",
       "      <td>1.000000</td>\n",
       "    </tr>\n",
       "    <tr>\n",
       "      <th>2</th>\n",
       "      <td>0.003405</td>\n",
       "      <td>2.8</td>\n",
       "      <td>1.357143</td>\n",
       "      <td>0.981818</td>\n",
       "      <td>-0.522188</td>\n",
       "      <td>-0.205764</td>\n",
       "      <td>2797</td>\n",
       "      <td>0.583333</td>\n",
       "    </tr>\n",
       "    <tr>\n",
       "      <th>3</th>\n",
       "      <td>-0.839859</td>\n",
       "      <td>3.5</td>\n",
       "      <td>1.357143</td>\n",
       "      <td>0.736364</td>\n",
       "      <td>1.083616</td>\n",
       "      <td>1.138849</td>\n",
       "      <td>630</td>\n",
       "      <td>0.250000</td>\n",
       "    </tr>\n",
       "    <tr>\n",
       "      <th>4</th>\n",
       "      <td>-1.029593</td>\n",
       "      <td>3.5</td>\n",
       "      <td>1.085714</td>\n",
       "      <td>1.472727</td>\n",
       "      <td>-0.103283</td>\n",
       "      <td>-1.102173</td>\n",
       "      <td>698</td>\n",
       "      <td>0.083333</td>\n",
       "    </tr>\n",
       "    <tr>\n",
       "      <th>...</th>\n",
       "      <td>...</td>\n",
       "      <td>...</td>\n",
       "      <td>...</td>\n",
       "      <td>...</td>\n",
       "      <td>...</td>\n",
       "      <td>...</td>\n",
       "      <td>...</td>\n",
       "      <td>...</td>\n",
       "    </tr>\n",
       "    <tr>\n",
       "      <th>40450</th>\n",
       "      <td>0.656935</td>\n",
       "      <td>2.8</td>\n",
       "      <td>0.814286</td>\n",
       "      <td>1.227273</td>\n",
       "      <td>0.734528</td>\n",
       "      <td>1.587054</td>\n",
       "      <td>5315</td>\n",
       "      <td>0.791667</td>\n",
       "    </tr>\n",
       "    <tr>\n",
       "      <th>40451</th>\n",
       "      <td>-0.144166</td>\n",
       "      <td>3.5</td>\n",
       "      <td>1.357143</td>\n",
       "      <td>1.472727</td>\n",
       "      <td>0.594893</td>\n",
       "      <td>-0.653969</td>\n",
       "      <td>2762</td>\n",
       "      <td>0.541667</td>\n",
       "    </tr>\n",
       "    <tr>\n",
       "      <th>40452</th>\n",
       "      <td>0.973160</td>\n",
       "      <td>2.1</td>\n",
       "      <td>0.542857</td>\n",
       "      <td>1.718182</td>\n",
       "      <td>-1.778904</td>\n",
       "      <td>1.138849</td>\n",
       "      <td>6855</td>\n",
       "      <td>0.875000</td>\n",
       "    </tr>\n",
       "    <tr>\n",
       "      <th>40453</th>\n",
       "      <td>-0.165247</td>\n",
       "      <td>3.5</td>\n",
       "      <td>1.085714</td>\n",
       "      <td>0.981818</td>\n",
       "      <td>-0.242918</td>\n",
       "      <td>-0.653969</td>\n",
       "      <td>2297</td>\n",
       "      <td>0.541667</td>\n",
       "    </tr>\n",
       "    <tr>\n",
       "      <th>40454</th>\n",
       "      <td>-0.544716</td>\n",
       "      <td>2.8</td>\n",
       "      <td>1.085714</td>\n",
       "      <td>1.227273</td>\n",
       "      <td>-0.661823</td>\n",
       "      <td>0.690645</td>\n",
       "      <td>1356</td>\n",
       "      <td>0.416667</td>\n",
       "    </tr>\n",
       "  </tbody>\n",
       "</table>\n",
       "<p>40455 rows × 8 columns</p>\n",
       "</div>"
      ],
      "text/plain": [
       "          carat  cut     color   clarity     depth     table  price  carat_bin\n",
       "0      3.081321  3.5  1.085714  0.981818  0.106170 -0.205764  12831   1.000000\n",
       "1      3.439708  2.1  0.814286  0.981818  1.013798 -0.205764  16170   1.000000\n",
       "2      0.003405  2.8  1.357143  0.981818 -0.522188 -0.205764   2797   0.583333\n",
       "3     -0.839859  3.5  1.357143  0.736364  1.083616  1.138849    630   0.250000\n",
       "4     -1.029593  3.5  1.085714  1.472727 -0.103283 -1.102173    698   0.083333\n",
       "...         ...  ...       ...       ...       ...       ...    ...        ...\n",
       "40450  0.656935  2.8  0.814286  1.227273  0.734528  1.587054   5315   0.791667\n",
       "40451 -0.144166  3.5  1.357143  1.472727  0.594893 -0.653969   2762   0.541667\n",
       "40452  0.973160  2.1  0.542857  1.718182 -1.778904  1.138849   6855   0.875000\n",
       "40453 -0.165247  3.5  1.085714  0.981818 -0.242918 -0.653969   2297   0.541667\n",
       "40454 -0.544716  2.8  1.085714  1.227273 -0.661823  0.690645   1356   0.416667\n",
       "\n",
       "[40455 rows x 8 columns]"
      ]
     },
     "metadata": {},
     "output_type": "display_data"
    }
   ],
   "source": [
    "diamonds.drop(['Unnamed: 0'], axis=1, inplace=True)\n",
    "display(diamonds)"
   ]
  },
  {
   "cell_type": "code",
   "execution_count": 5,
   "metadata": {},
   "outputs": [],
   "source": [
    "from sklearn.model_selection import train_test_split\n",
    "from sklearn.linear_model import LinearRegression\n",
    "from sklearn.metrics import r2_score\n",
    "from sklearn.metrics import mean_squared_error\n",
    "from sklearn.metrics import confusion_matrix, accuracy_score"
   ]
  },
  {
   "cell_type": "code",
   "execution_count": 6,
   "metadata": {},
   "outputs": [
    {
     "name": "stdout",
     "output_type": "stream",
     "text": [
      "(40455, 7) (40455,)\n",
      "(32364, 7) (8091, 7) (32364,) (8091,)\n"
     ]
    },
    {
     "data": {
      "text/html": [
       "<div>\n",
       "<style scoped>\n",
       "    .dataframe tbody tr th:only-of-type {\n",
       "        vertical-align: middle;\n",
       "    }\n",
       "\n",
       "    .dataframe tbody tr th {\n",
       "        vertical-align: top;\n",
       "    }\n",
       "\n",
       "    .dataframe thead th {\n",
       "        text-align: right;\n",
       "    }\n",
       "</style>\n",
       "<table border=\"1\" class=\"dataframe\">\n",
       "  <thead>\n",
       "    <tr style=\"text-align: right;\">\n",
       "      <th></th>\n",
       "      <th>carat</th>\n",
       "      <th>carat_bin</th>\n",
       "      <th>cut</th>\n",
       "      <th>color</th>\n",
       "      <th>clarity</th>\n",
       "      <th>depth</th>\n",
       "      <th>table</th>\n",
       "    </tr>\n",
       "  </thead>\n",
       "  <tbody>\n",
       "    <tr>\n",
       "      <th>0</th>\n",
       "      <td>3.081321</td>\n",
       "      <td>1.000000</td>\n",
       "      <td>3.5</td>\n",
       "      <td>1.085714</td>\n",
       "      <td>0.981818</td>\n",
       "      <td>0.106170</td>\n",
       "      <td>-0.205764</td>\n",
       "    </tr>\n",
       "    <tr>\n",
       "      <th>1</th>\n",
       "      <td>3.439708</td>\n",
       "      <td>1.000000</td>\n",
       "      <td>2.1</td>\n",
       "      <td>0.814286</td>\n",
       "      <td>0.981818</td>\n",
       "      <td>1.013798</td>\n",
       "      <td>-0.205764</td>\n",
       "    </tr>\n",
       "    <tr>\n",
       "      <th>2</th>\n",
       "      <td>0.003405</td>\n",
       "      <td>0.583333</td>\n",
       "      <td>2.8</td>\n",
       "      <td>1.357143</td>\n",
       "      <td>0.981818</td>\n",
       "      <td>-0.522188</td>\n",
       "      <td>-0.205764</td>\n",
       "    </tr>\n",
       "    <tr>\n",
       "      <th>3</th>\n",
       "      <td>-0.839859</td>\n",
       "      <td>0.250000</td>\n",
       "      <td>3.5</td>\n",
       "      <td>1.357143</td>\n",
       "      <td>0.736364</td>\n",
       "      <td>1.083616</td>\n",
       "      <td>1.138849</td>\n",
       "    </tr>\n",
       "    <tr>\n",
       "      <th>4</th>\n",
       "      <td>-1.029593</td>\n",
       "      <td>0.083333</td>\n",
       "      <td>3.5</td>\n",
       "      <td>1.085714</td>\n",
       "      <td>1.472727</td>\n",
       "      <td>-0.103283</td>\n",
       "      <td>-1.102173</td>\n",
       "    </tr>\n",
       "  </tbody>\n",
       "</table>\n",
       "</div>"
      ],
      "text/plain": [
       "      carat  carat_bin  cut     color   clarity     depth     table\n",
       "0  3.081321   1.000000  3.5  1.085714  0.981818  0.106170 -0.205764\n",
       "1  3.439708   1.000000  2.1  0.814286  0.981818  1.013798 -0.205764\n",
       "2  0.003405   0.583333  2.8  1.357143  0.981818 -0.522188 -0.205764\n",
       "3 -0.839859   0.250000  3.5  1.357143  0.736364  1.083616  1.138849\n",
       "4 -1.029593   0.083333  3.5  1.085714  1.472727 -0.103283 -1.102173"
      ]
     },
     "metadata": {},
     "output_type": "display_data"
    },
    {
     "data": {
      "text/plain": [
       "0    12831\n",
       "1    16170\n",
       "2     2797\n",
       "3      630\n",
       "4      698\n",
       "Name: price, dtype: int64"
      ]
     },
     "metadata": {},
     "output_type": "display_data"
    }
   ],
   "source": [
    "#columns = ['carat','cut','color','clarity','depth','table']\n",
    "columns = ['carat','carat_bin','cut','color','clarity','depth','table']\n",
    "X = diamonds[columns]\n",
    "y = diamonds['price']\n",
    "\n",
    "X_train, X_test, y_train, y_test = train_test_split(X, y, test_size=0.2)\n",
    "print(X.shape,y.shape)\n",
    "print(X_train.shape, X_test.shape, y_train.shape, y_test.shape)\n",
    "display(X.head())\n",
    "display(y.head())"
   ]
  },
  {
   "cell_type": "code",
   "execution_count": 7,
   "metadata": {},
   "outputs": [],
   "source": [
    "from sklearn.ensemble import RandomForestRegressor\n",
    "from sklearn.datasets import make_classification"
   ]
  },
  {
   "cell_type": "code",
   "execution_count": 8,
   "metadata": {},
   "outputs": [],
   "source": [
    "clf = RandomForestRegressor(n_estimators=200)"
   ]
  },
  {
   "cell_type": "code",
   "execution_count": 9,
   "metadata": {},
   "outputs": [
    {
     "data": {
      "text/plain": [
       "RandomForestRegressor(bootstrap=True, ccp_alpha=0.0, criterion='mse',\n",
       "                      max_depth=None, max_features='auto', max_leaf_nodes=None,\n",
       "                      max_samples=None, min_impurity_decrease=0.0,\n",
       "                      min_impurity_split=None, min_samples_leaf=1,\n",
       "                      min_samples_split=2, min_weight_fraction_leaf=0.0,\n",
       "                      n_estimators=200, n_jobs=None, oob_score=False,\n",
       "                      random_state=None, verbose=0, warm_start=False)"
      ]
     },
     "execution_count": 9,
     "metadata": {},
     "output_type": "execute_result"
    }
   ],
   "source": [
    "clf.fit(X_train, y_train)"
   ]
  },
  {
   "cell_type": "code",
   "execution_count": 10,
   "metadata": {},
   "outputs": [],
   "source": [
    "y_predr = clf.predict(X_test)"
   ]
  },
  {
   "cell_type": "code",
   "execution_count": 11,
   "metadata": {},
   "outputs": [
    {
     "data": {
      "text/plain": [
       "0.9812666081632335"
      ]
     },
     "execution_count": 11,
     "metadata": {},
     "output_type": "execute_result"
    }
   ],
   "source": [
    "r2_score(y_test, y_predr)"
   ]
  },
  {
   "cell_type": "code",
   "execution_count": 12,
   "metadata": {},
   "outputs": [
    {
     "data": {
      "text/plain": [
       "292836.4872899418"
      ]
     },
     "execution_count": 12,
     "metadata": {},
     "output_type": "execute_result"
    }
   ],
   "source": [
    "from sklearn.metrics import mean_squared_error\n",
    "mean_squared_error(y_test, y_predr)"
   ]
  },
  {
   "cell_type": "code",
   "execution_count": 13,
   "metadata": {},
   "outputs": [
    {
     "data": {
      "text/plain": [
       "541.1436845145121"
      ]
     },
     "execution_count": 13,
     "metadata": {},
     "output_type": "execute_result"
    }
   ],
   "source": [
    "from math import sqrt\n",
    "rmse = sqrt(mean_squared_error(y_test, y_predr))\n",
    "rmse"
   ]
  },
  {
   "cell_type": "code",
   "execution_count": 14,
   "metadata": {},
   "outputs": [
    {
     "data": {
      "text/html": [
       "<div>\n",
       "<style scoped>\n",
       "    .dataframe tbody tr th:only-of-type {\n",
       "        vertical-align: middle;\n",
       "    }\n",
       "\n",
       "    .dataframe tbody tr th {\n",
       "        vertical-align: top;\n",
       "    }\n",
       "\n",
       "    .dataframe thead th {\n",
       "        text-align: right;\n",
       "    }\n",
       "</style>\n",
       "<table border=\"1\" class=\"dataframe\">\n",
       "  <thead>\n",
       "    <tr style=\"text-align: right;\">\n",
       "      <th></th>\n",
       "      <th>y_test</th>\n",
       "      <th>y_predr</th>\n",
       "      <th>diff</th>\n",
       "    </tr>\n",
       "  </thead>\n",
       "  <tbody>\n",
       "    <tr>\n",
       "      <th>14187</th>\n",
       "      <td>1064</td>\n",
       "      <td>871.059250</td>\n",
       "      <td>192.940750</td>\n",
       "    </tr>\n",
       "    <tr>\n",
       "      <th>20871</th>\n",
       "      <td>709</td>\n",
       "      <td>585.108583</td>\n",
       "      <td>123.891417</td>\n",
       "    </tr>\n",
       "    <tr>\n",
       "      <th>23569</th>\n",
       "      <td>504</td>\n",
       "      <td>513.923333</td>\n",
       "      <td>-9.923333</td>\n",
       "    </tr>\n",
       "    <tr>\n",
       "      <th>24507</th>\n",
       "      <td>3273</td>\n",
       "      <td>3388.551667</td>\n",
       "      <td>-115.551667</td>\n",
       "    </tr>\n",
       "    <tr>\n",
       "      <th>9296</th>\n",
       "      <td>977</td>\n",
       "      <td>889.803583</td>\n",
       "      <td>87.196417</td>\n",
       "    </tr>\n",
       "  </tbody>\n",
       "</table>\n",
       "</div>"
      ],
      "text/plain": [
       "       y_test      y_predr        diff\n",
       "14187    1064   871.059250  192.940750\n",
       "20871     709   585.108583  123.891417\n",
       "23569     504   513.923333   -9.923333\n",
       "24507    3273  3388.551667 -115.551667\n",
       "9296      977   889.803583   87.196417"
      ]
     },
     "metadata": {},
     "output_type": "display_data"
    }
   ],
   "source": [
    "dfm1 = pd.DataFrame()\n",
    "dfm1[\"y_test\"]=y_test\n",
    "dfm1[\"y_predr\"]=y_predr\n",
    "dfm1[\"diff\"]=y_test-y_predr\n",
    "\n",
    "display(dfm1.head(5))"
   ]
  },
  {
   "cell_type": "code",
   "execution_count": 19,
   "metadata": {},
   "outputs": [],
   "source": [
    "##testing\n",
    "#importing dataset\n",
    "test1 = pd.read_csv('./test12.csv')\n",
    "test1 = pd.DataFrame(test1)"
   ]
  },
  {
   "cell_type": "code",
   "execution_count": 20,
   "metadata": {},
   "outputs": [
    {
     "data": {
      "text/html": [
       "<div>\n",
       "<style scoped>\n",
       "    .dataframe tbody tr th:only-of-type {\n",
       "        vertical-align: middle;\n",
       "    }\n",
       "\n",
       "    .dataframe tbody tr th {\n",
       "        vertical-align: top;\n",
       "    }\n",
       "\n",
       "    .dataframe thead th {\n",
       "        text-align: right;\n",
       "    }\n",
       "</style>\n",
       "<table border=\"1\" class=\"dataframe\">\n",
       "  <thead>\n",
       "    <tr style=\"text-align: right;\">\n",
       "      <th></th>\n",
       "      <th>Unnamed: 0</th>\n",
       "      <th>id</th>\n",
       "      <th>carat</th>\n",
       "      <th>cut</th>\n",
       "      <th>color</th>\n",
       "      <th>clarity</th>\n",
       "      <th>depth</th>\n",
       "      <th>table</th>\n",
       "      <th>carat_bin</th>\n",
       "    </tr>\n",
       "  </thead>\n",
       "  <tbody>\n",
       "    <tr>\n",
       "      <th>0</th>\n",
       "      <td>0</td>\n",
       "      <td>0</td>\n",
       "      <td>-0.500241</td>\n",
       "      <td>3.5</td>\n",
       "      <td>0.542857</td>\n",
       "      <td>1.472727</td>\n",
       "      <td>0.241489</td>\n",
       "      <td>-1.537773</td>\n",
       "      <td>0.458333</td>\n",
       "    </tr>\n",
       "    <tr>\n",
       "      <th>1</th>\n",
       "      <td>1</td>\n",
       "      <td>1</td>\n",
       "      <td>0.535739</td>\n",
       "      <td>3.5</td>\n",
       "      <td>1.085714</td>\n",
       "      <td>1.472727</td>\n",
       "      <td>0.101972</td>\n",
       "      <td>-0.646693</td>\n",
       "      <td>0.791667</td>\n",
       "    </tr>\n",
       "    <tr>\n",
       "      <th>2</th>\n",
       "      <td>2</td>\n",
       "      <td>2</td>\n",
       "      <td>-0.627096</td>\n",
       "      <td>2.8</td>\n",
       "      <td>1.628571</td>\n",
       "      <td>1.472727</td>\n",
       "      <td>-0.177064</td>\n",
       "      <td>-0.646693</td>\n",
       "      <td>0.333333</td>\n",
       "    </tr>\n",
       "    <tr>\n",
       "      <th>3</th>\n",
       "      <td>3</td>\n",
       "      <td>3</td>\n",
       "      <td>0.007178</td>\n",
       "      <td>3.5</td>\n",
       "      <td>1.357143</td>\n",
       "      <td>1.718182</td>\n",
       "      <td>0.729801</td>\n",
       "      <td>-0.646693</td>\n",
       "      <td>0.583333</td>\n",
       "    </tr>\n",
       "    <tr>\n",
       "      <th>4</th>\n",
       "      <td>4</td>\n",
       "      <td>4</td>\n",
       "      <td>-0.542526</td>\n",
       "      <td>3.5</td>\n",
       "      <td>1.085714</td>\n",
       "      <td>1.718182</td>\n",
       "      <td>-0.246823</td>\n",
       "      <td>-0.201152</td>\n",
       "      <td>0.416667</td>\n",
       "    </tr>\n",
       "  </tbody>\n",
       "</table>\n",
       "</div>"
      ],
      "text/plain": [
       "   Unnamed: 0  id     carat  cut     color   clarity     depth     table  \\\n",
       "0           0   0 -0.500241  3.5  0.542857  1.472727  0.241489 -1.537773   \n",
       "1           1   1  0.535739  3.5  1.085714  1.472727  0.101972 -0.646693   \n",
       "2           2   2 -0.627096  2.8  1.628571  1.472727 -0.177064 -0.646693   \n",
       "3           3   3  0.007178  3.5  1.357143  1.718182  0.729801 -0.646693   \n",
       "4           4   4 -0.542526  3.5  1.085714  1.718182 -0.246823 -0.201152   \n",
       "\n",
       "   carat_bin  \n",
       "0   0.458333  \n",
       "1   0.791667  \n",
       "2   0.333333  \n",
       "3   0.583333  \n",
       "4   0.416667  "
      ]
     },
     "metadata": {},
     "output_type": "display_data"
    }
   ],
   "source": [
    "display(test1.head())"
   ]
  },
  {
   "cell_type": "code",
   "execution_count": 17,
   "metadata": {},
   "outputs": [
    {
     "data": {
      "text/html": [
       "<div>\n",
       "<style scoped>\n",
       "    .dataframe tbody tr th:only-of-type {\n",
       "        vertical-align: middle;\n",
       "    }\n",
       "\n",
       "    .dataframe tbody tr th {\n",
       "        vertical-align: top;\n",
       "    }\n",
       "\n",
       "    .dataframe thead th {\n",
       "        text-align: right;\n",
       "    }\n",
       "</style>\n",
       "<table border=\"1\" class=\"dataframe\">\n",
       "  <thead>\n",
       "    <tr style=\"text-align: right;\">\n",
       "      <th></th>\n",
       "      <th>carat</th>\n",
       "      <th>cut</th>\n",
       "      <th>color</th>\n",
       "      <th>clarity</th>\n",
       "      <th>depth</th>\n",
       "      <th>table</th>\n",
       "    </tr>\n",
       "  </thead>\n",
       "  <tbody>\n",
       "    <tr>\n",
       "      <th>0</th>\n",
       "      <td>-0.500241</td>\n",
       "      <td>3.0</td>\n",
       "      <td>0.285714</td>\n",
       "      <td>1.090909</td>\n",
       "      <td>0.241489</td>\n",
       "      <td>-1.537773</td>\n",
       "    </tr>\n",
       "    <tr>\n",
       "      <th>1</th>\n",
       "      <td>0.535739</td>\n",
       "      <td>3.0</td>\n",
       "      <td>0.571429</td>\n",
       "      <td>1.090909</td>\n",
       "      <td>0.101972</td>\n",
       "      <td>-0.646693</td>\n",
       "    </tr>\n",
       "    <tr>\n",
       "      <th>2</th>\n",
       "      <td>-0.627096</td>\n",
       "      <td>2.4</td>\n",
       "      <td>0.857143</td>\n",
       "      <td>1.090909</td>\n",
       "      <td>-0.177064</td>\n",
       "      <td>-0.646693</td>\n",
       "    </tr>\n",
       "    <tr>\n",
       "      <th>3</th>\n",
       "      <td>0.007178</td>\n",
       "      <td>3.0</td>\n",
       "      <td>0.714286</td>\n",
       "      <td>1.272727</td>\n",
       "      <td>0.729801</td>\n",
       "      <td>-0.646693</td>\n",
       "    </tr>\n",
       "    <tr>\n",
       "      <th>4</th>\n",
       "      <td>-0.542526</td>\n",
       "      <td>3.0</td>\n",
       "      <td>0.571429</td>\n",
       "      <td>1.272727</td>\n",
       "      <td>-0.246823</td>\n",
       "      <td>-0.201152</td>\n",
       "    </tr>\n",
       "  </tbody>\n",
       "</table>\n",
       "</div>"
      ],
      "text/plain": [
       "      carat  cut     color   clarity     depth     table\n",
       "0 -0.500241  3.0  0.285714  1.090909  0.241489 -1.537773\n",
       "1  0.535739  3.0  0.571429  1.090909  0.101972 -0.646693\n",
       "2 -0.627096  2.4  0.857143  1.090909 -0.177064 -0.646693\n",
       "3  0.007178  3.0  0.714286  1.272727  0.729801 -0.646693\n",
       "4 -0.542526  3.0  0.571429  1.272727 -0.246823 -0.201152"
      ]
     },
     "metadata": {},
     "output_type": "display_data"
    }
   ],
   "source": [
    "test1.drop(['Unnamed: 0','id','carat_bin'], axis=1, inplace=True)\n",
    "display(test1.head())"
   ]
  },
  {
   "cell_type": "code",
   "execution_count": 18,
   "metadata": {},
   "outputs": [
    {
     "ename": "ValueError",
     "evalue": "Number of features of the model must match the input. Model n_features is 7 and input n_features is 6 ",
     "output_type": "error",
     "traceback": [
      "\u001b[0;31m---------------------------------------------------------------------------\u001b[0m",
      "\u001b[0;31mValueError\u001b[0m                                Traceback (most recent call last)",
      "\u001b[0;32m<ipython-input-18-00ff888c188b>\u001b[0m in \u001b[0;36m<module>\u001b[0;34m\u001b[0m\n\u001b[0;32m----> 1\u001b[0;31m \u001b[0my_test1\u001b[0m\u001b[0;34m=\u001b[0m\u001b[0mclf\u001b[0m\u001b[0;34m.\u001b[0m\u001b[0mpredict\u001b[0m\u001b[0;34m(\u001b[0m\u001b[0mtest1\u001b[0m\u001b[0;34m)\u001b[0m\u001b[0;34m\u001b[0m\u001b[0;34m\u001b[0m\u001b[0m\n\u001b[0m",
      "\u001b[0;32m~/.local/lib/python3.6/site-packages/sklearn/ensemble/_forest.py\u001b[0m in \u001b[0;36mpredict\u001b[0;34m(self, X)\u001b[0m\n\u001b[1;32m    764\u001b[0m         \u001b[0mcheck_is_fitted\u001b[0m\u001b[0;34m(\u001b[0m\u001b[0mself\u001b[0m\u001b[0;34m)\u001b[0m\u001b[0;34m\u001b[0m\u001b[0;34m\u001b[0m\u001b[0m\n\u001b[1;32m    765\u001b[0m         \u001b[0;31m# Check data\u001b[0m\u001b[0;34m\u001b[0m\u001b[0;34m\u001b[0m\u001b[0;34m\u001b[0m\u001b[0m\n\u001b[0;32m--> 766\u001b[0;31m         \u001b[0mX\u001b[0m \u001b[0;34m=\u001b[0m \u001b[0mself\u001b[0m\u001b[0;34m.\u001b[0m\u001b[0m_validate_X_predict\u001b[0m\u001b[0;34m(\u001b[0m\u001b[0mX\u001b[0m\u001b[0;34m)\u001b[0m\u001b[0;34m\u001b[0m\u001b[0;34m\u001b[0m\u001b[0m\n\u001b[0m\u001b[1;32m    767\u001b[0m \u001b[0;34m\u001b[0m\u001b[0m\n\u001b[1;32m    768\u001b[0m         \u001b[0;31m# Assign chunk of trees to jobs\u001b[0m\u001b[0;34m\u001b[0m\u001b[0;34m\u001b[0m\u001b[0;34m\u001b[0m\u001b[0m\n",
      "\u001b[0;32m~/.local/lib/python3.6/site-packages/sklearn/ensemble/_forest.py\u001b[0m in \u001b[0;36m_validate_X_predict\u001b[0;34m(self, X)\u001b[0m\n\u001b[1;32m    410\u001b[0m         \u001b[0mcheck_is_fitted\u001b[0m\u001b[0;34m(\u001b[0m\u001b[0mself\u001b[0m\u001b[0;34m)\u001b[0m\u001b[0;34m\u001b[0m\u001b[0;34m\u001b[0m\u001b[0m\n\u001b[1;32m    411\u001b[0m \u001b[0;34m\u001b[0m\u001b[0m\n\u001b[0;32m--> 412\u001b[0;31m         \u001b[0;32mreturn\u001b[0m \u001b[0mself\u001b[0m\u001b[0;34m.\u001b[0m\u001b[0mestimators_\u001b[0m\u001b[0;34m[\u001b[0m\u001b[0;36m0\u001b[0m\u001b[0;34m]\u001b[0m\u001b[0;34m.\u001b[0m\u001b[0m_validate_X_predict\u001b[0m\u001b[0;34m(\u001b[0m\u001b[0mX\u001b[0m\u001b[0;34m,\u001b[0m \u001b[0mcheck_input\u001b[0m\u001b[0;34m=\u001b[0m\u001b[0;32mTrue\u001b[0m\u001b[0;34m)\u001b[0m\u001b[0;34m\u001b[0m\u001b[0;34m\u001b[0m\u001b[0m\n\u001b[0m\u001b[1;32m    413\u001b[0m \u001b[0;34m\u001b[0m\u001b[0m\n\u001b[1;32m    414\u001b[0m     \u001b[0;34m@\u001b[0m\u001b[0mproperty\u001b[0m\u001b[0;34m\u001b[0m\u001b[0;34m\u001b[0m\u001b[0m\n",
      "\u001b[0;32m~/.local/lib/python3.6/site-packages/sklearn/tree/_classes.py\u001b[0m in \u001b[0;36m_validate_X_predict\u001b[0;34m(self, X, check_input)\u001b[0m\n\u001b[1;32m    389\u001b[0m                              \u001b[0;34m\"match the input. Model n_features is %s and \"\u001b[0m\u001b[0;34m\u001b[0m\u001b[0;34m\u001b[0m\u001b[0m\n\u001b[1;32m    390\u001b[0m                              \u001b[0;34m\"input n_features is %s \"\u001b[0m\u001b[0;34m\u001b[0m\u001b[0;34m\u001b[0m\u001b[0m\n\u001b[0;32m--> 391\u001b[0;31m                              % (self.n_features_, n_features))\n\u001b[0m\u001b[1;32m    392\u001b[0m \u001b[0;34m\u001b[0m\u001b[0m\n\u001b[1;32m    393\u001b[0m         \u001b[0;32mreturn\u001b[0m \u001b[0mX\u001b[0m\u001b[0;34m\u001b[0m\u001b[0;34m\u001b[0m\u001b[0m\n",
      "\u001b[0;31mValueError\u001b[0m: Number of features of the model must match the input. Model n_features is 7 and input n_features is 6 "
     ]
    }
   ],
   "source": [
    "y_test1=clf.predict(test1)"
   ]
  },
  {
   "cell_type": "code",
   "execution_count": 132,
   "metadata": {},
   "outputs": [],
   "source": [
    "pred_test1 = pd.DataFrame({\n",
    "    'id': test1.index,\n",
    "    'price': y_test1\n",
    "})"
   ]
  },
  {
   "cell_type": "code",
   "execution_count": 133,
   "metadata": {},
   "outputs": [
    {
     "data": {
      "text/html": [
       "<div>\n",
       "<style scoped>\n",
       "    .dataframe tbody tr th:only-of-type {\n",
       "        vertical-align: middle;\n",
       "    }\n",
       "\n",
       "    .dataframe tbody tr th {\n",
       "        vertical-align: top;\n",
       "    }\n",
       "\n",
       "    .dataframe thead th {\n",
       "        text-align: right;\n",
       "    }\n",
       "</style>\n",
       "<table border=\"1\" class=\"dataframe\">\n",
       "  <thead>\n",
       "    <tr style=\"text-align: right;\">\n",
       "      <th></th>\n",
       "      <th>id</th>\n",
       "      <th>price</th>\n",
       "    </tr>\n",
       "  </thead>\n",
       "  <tbody>\n",
       "    <tr>\n",
       "      <th>0</th>\n",
       "      <td>0</td>\n",
       "      <td>1037.528000</td>\n",
       "    </tr>\n",
       "    <tr>\n",
       "      <th>1</th>\n",
       "      <td>1</td>\n",
       "      <td>3917.352000</td>\n",
       "    </tr>\n",
       "    <tr>\n",
       "      <th>2</th>\n",
       "      <td>2</td>\n",
       "      <td>1031.268667</td>\n",
       "    </tr>\n",
       "    <tr>\n",
       "      <th>3</th>\n",
       "      <td>3</td>\n",
       "      <td>2467.520000</td>\n",
       "    </tr>\n",
       "    <tr>\n",
       "      <th>4</th>\n",
       "      <td>4</td>\n",
       "      <td>1108.876000</td>\n",
       "    </tr>\n",
       "  </tbody>\n",
       "</table>\n",
       "</div>"
      ],
      "text/plain": [
       "   id        price\n",
       "0   0  1037.528000\n",
       "1   1  3917.352000\n",
       "2   2  1031.268667\n",
       "3   3  2467.520000\n",
       "4   4  1108.876000"
      ]
     },
     "metadata": {},
     "output_type": "display_data"
    }
   ],
   "source": [
    "display(pred_test1.head())"
   ]
  },
  {
   "cell_type": "code",
   "execution_count": 134,
   "metadata": {},
   "outputs": [],
   "source": [
    "#printing test predictions\n",
    "pred_test1.to_csv('pred_test3.csv', index=False)"
   ]
  },
  {
   "cell_type": "code",
   "execution_count": null,
   "metadata": {},
   "outputs": [],
   "source": []
  }
 ],
 "metadata": {
  "kernelspec": {
   "display_name": "Python 3",
   "language": "python",
   "name": "python3"
  },
  "language_info": {
   "codemirror_mode": {
    "name": "ipython",
    "version": 3
   },
   "file_extension": ".py",
   "mimetype": "text/x-python",
   "name": "python",
   "nbconvert_exporter": "python",
   "pygments_lexer": "ipython3",
   "version": "3.6.8"
  }
 },
 "nbformat": 4,
 "nbformat_minor": 2
}
